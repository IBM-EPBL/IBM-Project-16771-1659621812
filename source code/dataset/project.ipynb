{
 "cells": [
  {
   "cell_type": "code",
   "execution_count": 6,
   "id": "8fbe812d",
   "metadata": {},
   "outputs": [],
   "source": [
    "import pandas as pd"
   ]
  },
  {
   "cell_type": "code",
   "execution_count": 7,
   "id": "d532b163",
   "metadata": {},
   "outputs": [],
   "source": [
    "a = pd.read_csv(\"./chronickidneydisease.csv\")"
   ]
  },
  {
   "cell_type": "code",
   "execution_count": 8,
   "id": "1c8bf86c",
   "metadata": {},
   "outputs": [
    {
     "name": "stdout",
     "output_type": "stream",
     "text": [
      "      id   age    bp     sg   al   su     rbc        pc         pcc  \\\n",
      "0      0  48.0  80.0  1.020  1.0  0.0     NaN    normal  notpresent   \n",
      "1      1   7.0  50.0  1.020  4.0  0.0     NaN    normal  notpresent   \n",
      "2      2  62.0  80.0  1.010  2.0  3.0  normal    normal  notpresent   \n",
      "3      3  48.0  70.0  1.005  4.0  0.0  normal  abnormal     present   \n",
      "4      4  51.0  80.0  1.010  2.0  0.0  normal    normal  notpresent   \n",
      "..   ...   ...   ...    ...  ...  ...     ...       ...         ...   \n",
      "395  395  55.0  80.0  1.020  0.0  0.0  normal    normal  notpresent   \n",
      "396  396  42.0  70.0  1.025  0.0  0.0  normal    normal  notpresent   \n",
      "397  397  12.0  80.0  1.020  0.0  0.0  normal    normal  notpresent   \n",
      "398  398  17.0  60.0  1.025  0.0  0.0  normal    normal  notpresent   \n",
      "399  399  58.0  80.0  1.025  0.0  0.0  normal    normal  notpresent   \n",
      "\n",
      "             ba  ...  pcv    wc   rc  htn   dm  cad appet   pe  ane  \\\n",
      "0    notpresent  ...   44  7800  5.2  yes  yes   no  good   no   no   \n",
      "1    notpresent  ...   38  6000  NaN   no   no   no  good   no   no   \n",
      "2    notpresent  ...   31  7500  NaN   no  yes   no  poor   no  yes   \n",
      "3    notpresent  ...   32  6700  3.9  yes   no   no  poor  yes  yes   \n",
      "4    notpresent  ...   35  7300  4.6   no   no   no  good   no   no   \n",
      "..          ...  ...  ...   ...  ...  ...  ...  ...   ...  ...  ...   \n",
      "395  notpresent  ...   47  6700  4.9   no   no   no  good   no   no   \n",
      "396  notpresent  ...   54  7800  6.2   no   no   no  good   no   no   \n",
      "397  notpresent  ...   49  6600  5.4   no   no   no  good   no   no   \n",
      "398  notpresent  ...   51  7200  5.9   no   no   no  good   no   no   \n",
      "399  notpresent  ...   53  6800  6.1   no   no   no  good   no   no   \n",
      "\n",
      "    classification  \n",
      "0              ckd  \n",
      "1              ckd  \n",
      "2              ckd  \n",
      "3              ckd  \n",
      "4              ckd  \n",
      "..             ...  \n",
      "395         notckd  \n",
      "396         notckd  \n",
      "397         notckd  \n",
      "398         notckd  \n",
      "399         notckd  \n",
      "\n",
      "[400 rows x 26 columns]\n"
     ]
    }
   ],
   "source": [
    "print(a)"
   ]
  },
  {
   "cell_type": "code",
   "execution_count": null,
   "id": "b9ddd354",
   "metadata": {},
   "outputs": [],
   "source": []
  }
 ],
 "metadata": {
  "kernelspec": {
   "display_name": "Python 3 (ipykernel)",
   "language": "python",
   "name": "python3"
  },
  "language_info": {
   "codemirror_mode": {
    "name": "ipython",
    "version": 3
   },
   "file_extension": ".py",
   "mimetype": "text/x-python",
   "name": "python",
   "nbconvert_exporter": "python",
   "pygments_lexer": "ipython3",
   "version": "3.9.12"
  }
 },
 "nbformat": 4,
 "nbformat_minor": 5
}
