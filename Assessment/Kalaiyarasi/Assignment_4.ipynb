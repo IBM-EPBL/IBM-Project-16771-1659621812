{
 "cells": [
  {
   "cell_type": "code",
   "execution_count": 2,
   "metadata": {
    "id": "5wGsTjNaplHq"
   },
   "outputs": [],
   "source": [
    "import numpy as np \n",
    "import pandas as pd \n",
    "import seaborn as sns\n",
    "import matplotlib.pyplot as plt\n",
    "%matplotlib inline\n",
    "\n",
    "import warnings\n",
    "warnings.filterwarnings('ignore')\n",
    "\n",
    "from sklearn.cluster import KMeans\n",
    "import scipy.cluster.hierarchy as sch\n",
    "from sklearn.cluster import AgglomerativeClustering\n",
    "\n",
    "\n"
   ]
  },
  {
   "cell_type": "code",
   "execution_count": null,
   "metadata": {
    "colab": {
     "base_uri": "https://localhost:8080/",
     "height": 206
    },
    "id": "pdR_MQCwsaag",
    "outputId": "2eeb7295-6b5e-4315-8b1a-bb9c6caaab5e"
   },
   "outputs": [],
   "source": [
    "data = pd.read_csv('/content/Mall_Customers.csv')\n",
    "data.head()"
   ]
  },
  {
   "cell_type": "code",
   "execution_count": null,
   "metadata": {
    "colab": {
     "base_uri": "https://localhost:8080/"
    },
    "id": "B8Me1IKts9uJ",
    "outputId": "48482207-b79e-4ccb-b5b5-b52419aefad9"
   },
   "outputs": [],
   "source": [
    "data.shape"
   ]
  },
  {
   "cell_type": "code",
   "execution_count": null,
   "metadata": {
    "colab": {
     "base_uri": "https://localhost:8080/"
    },
    "id": "CShMZ1lptHcQ",
    "outputId": "bea9a1bd-89c4-4889-bb9a-e1bdd00ec0c1"
   },
   "outputs": [],
   "source": [
    "data.info()"
   ]
  },
  {
   "cell_type": "code",
   "execution_count": null,
   "metadata": {
    "colab": {
     "base_uri": "https://localhost:8080/",
     "height": 300
    },
    "id": "Ve84fn7ftK94",
    "outputId": "b38ab78c-bbc0-495a-cb45-7138e781761f"
   },
   "outputs": [],
   "source": [
    "data.describe()"
   ]
  },
  {
   "cell_type": "code",
   "execution_count": null,
   "metadata": {
    "colab": {
     "base_uri": "https://localhost:8080/",
     "height": 412
    },
    "id": "5WP9bV0atOmA",
    "outputId": "a797313f-57ef-4c83-f199-8584a43be9eb"
   },
   "outputs": [],
   "source": [
    "plt.rcParams['figure.figsize'] = (14, 6)\n",
    "\n",
    "plt.subplot(1, 2, 1)\n",
    "\n",
    "sns.set(style = 'whitegrid')\n",
    "\n",
    "sns.distplot(data['Annual Income (k$)'])\n",
    "plt.title('Distribution of Annual Income', fontsize = 15)\n",
    "plt.xlabel('Range of Annual Income')\n",
    "plt.ylabel('Count')\n",
    "\n",
    "\n",
    "plt.subplot(1, 2, 2)\n",
    "\n",
    "sns.set(style = 'whitegrid')\n",
    "\n",
    "sns.distplot(data['Age'], color = 'orange')\n",
    "plt.title('Distribution of Age', fontsize = 15)\n",
    "plt.xlabel('Range of Age')\n",
    "plt.ylabel('Count')\n",
    "plt.show()"
   ]
  },
  {
   "cell_type": "markdown",
   "metadata": {
    "id": "LcR-Y1sgutyP"
   },
   "source": [
    "#### Here, In the above Plots we can see the Distribution pattern of Annual Income and Age.\n",
    "\n",
    " - By looking at the plots, We can infer one thing that There are few people who earn more than 100 US Dollars. Most of the people have an earning of around 50-75 US Dollars. Also, we can say that the least Income is around 20 US Dollars.\n",
    "\n",
    "#### Taking inferences about the Customers.\n",
    "\n",
    " - The most regular customers for the Mall has age around 30-35 years of age. Whereas the the senior citizens age group is the least frequent visitor in the Mall. Youngsters are lesser in umber as compared to the Middle aged people."
   ]
  },
  {
   "cell_type": "code",
   "execution_count": null,
   "metadata": {
    "colab": {
     "base_uri": "https://localhost:8080/",
     "height": 538
    },
    "id": "0kKyhjjotyAe",
    "outputId": "dd91fe48-ae68-44a8-8836-d1c5bb057350"
   },
   "outputs": [],
   "source": [
    "labels = ['Female', 'Male']\n",
    "size = data['Gender'].value_counts()\n",
    "colors = ['blue', 'orange']\n",
    "explode = [0, 0.1]\n",
    "\n",
    "plt.rcParams['figure.figsize'] = (9, 9)\n",
    "plt.pie(size, colors = colors, explode = explode, labels = labels, shadow = True, autopct = '%.2f%%')\n",
    "plt.title('Gender', fontsize = 15)\n",
    "plt.axis('off')\n",
    "plt.legend()\n",
    "plt.show()"
   ]
  },
  {
   "cell_type": "markdown",
   "metadata": {
    "id": "OJckVN_mvUXX"
   },
   "source": [
    "#### By looking at the above pie chart which explains about the distribution of gender in the Mall\n",
    "\n",
    "- Interestingly, The Females are in the lead with a share of 56% whereas the Males have a share of 44%, that's a huge gap specially when the population of Males is comparatively higher than Females."
   ]
  },
  {
   "cell_type": "code",
   "execution_count": null,
   "metadata": {
    "colab": {
     "base_uri": "https://localhost:8080/",
     "height": 520
    },
    "id": "lTDUl0V5vQJo",
    "outputId": "f22d25ea-d165-4344-ad7a-6fbdb0212666"
   },
   "outputs": [],
   "source": [
    "plt.rcParams['figure.figsize'] = (14, 8)\n",
    "sns.countplot(data['Age'], palette = 'hsv')\n",
    "plt.title('Distribution of Age', fontsize = 15)\n",
    "plt.show()"
   ]
  },
  {
   "cell_type": "markdown",
   "metadata": {
    "id": "31Gx6eyQzyIp"
   },
   "source": [
    "This Graph shows a more Interactive Chart about the distribution of each Age Group in the Mall for more clariy about the Visitor's Age Group in the Mall.\n",
    "\n",
    "By looking at the above graph-, It can be seen that the Ages from 27 to 39 are very much frequent but there is no clear pattern, we can only find some group wise patterns such as the the older age groups are lesser frequent in comparison. Interesting Fact, There are equal no. of Visitors in the Mall for the Agee 18 and 67. People of Age 55, 56, 69, 64 are very less frequent in the Malls. People at Age 32 are the Most Frequent Visitors in the Mall."
   ]
  },
  {
   "cell_type": "code",
   "execution_count": null,
   "metadata": {
    "colab": {
     "base_uri": "https://localhost:8080/",
     "height": 520
    },
    "id": "XRykiUyuztAh",
    "outputId": "063fbcf6-834c-4404-c5e0-4c099eb0c51b"
   },
   "outputs": [],
   "source": [
    "plt.rcParams['figure.figsize'] = (14, 8)\n",
    "sns.countplot(data['Annual Income (k$)'], palette = 'rainbow')\n",
    "plt.title('Distribution of Annual Income', fontsize = 15)\n",
    "plt.show()"
   ]
  },
  {
   "cell_type": "markdown",
   "metadata": {
    "id": "7UUQtNpez3SH"
   },
   "source": [
    "Again, This is also a chart to better explain the Distribution of Each Income level, Interesting there are customers in the mall with a very much comparable freqyuency with their Annual Income ranging from 15 US Dollars to 137K US Dollars. There are more Customers in the Mall whoc have their Annual Income as 54k US Dollars or 78 US Dollars."
   ]
  },
  {
   "cell_type": "code",
   "execution_count": null,
   "metadata": {
    "colab": {
     "base_uri": "https://localhost:8080/",
     "height": 520
    },
    "id": "HxG6qytBz1HH",
    "outputId": "d3d363a5-d9e6-429f-e92c-a3eb6359ecd8"
   },
   "outputs": [],
   "source": [
    "plt.rcParams['figure.figsize'] = (14, 8)\n",
    "sns.countplot(data['Spending Score (1-100)'], palette = 'copper')\n",
    "plt.title('Distribution Grpah of Spending Score', fontsize = 15)\n",
    "plt.show()"
   ]
  },
  {
   "cell_type": "markdown",
   "metadata": {
    "id": "zqkCdK-Vz8cw"
   },
   "source": [
    "This is the Most Important Chart in the perspective of Mall, as It is very Important to have some intuition and idea about the Spending Score of the Customers Visiting the Mall.\n",
    "\n",
    "On a general level, we may conclude that most of the Customers have their Spending Score in the range of 35-60. Interesting there are customers having I spending score also, and 99 Spending score also, Which shows that the mall caters to the variety of Customers with Varying needs and requirements available in the Mall."
   ]
  },
  {
   "cell_type": "code",
   "execution_count": null,
   "metadata": {
    "colab": {
     "base_uri": "https://localhost:8080/",
     "height": 724
    },
    "id": "8H_7yDQjz5f3",
    "outputId": "c8985ebe-a208-4f18-c22e-6026ed179b83"
   },
   "outputs": [],
   "source": [
    "sns.pairplot(data)\n",
    "plt.title('Pairplot for the Data', fontsize = 15)\n",
    "plt.show()"
   ]
  },
  {
   "cell_type": "code",
   "execution_count": null,
   "metadata": {
    "colab": {
     "base_uri": "https://localhost:8080/",
     "height": 520
    },
    "id": "ytyf6Xs_z-jI",
    "outputId": "7af07658-9609-4703-af8c-64075d68e02b"
   },
   "outputs": [],
   "source": [
    "# Correlation coeffecients heatmap\n",
    "sns.heatmap(data.corr(), annot=True).set_title('Correlation Factors Heat Map', size='15')"
   ]
  },
  {
   "cell_type": "markdown",
   "metadata": {
    "id": "k35R-3Nl0EpQ"
   },
   "source": [
    "The Above Graph for Showing the correlation between the different attributes of the Mall Customer Segementation Dataset, This Heat map reflects the most correlated features with Orange Color and least correlated features with yellow color.\n",
    "\n",
    "We can clearly see that these attributes do not have good correlation among them, that's why we will proceed with all of the features."
   ]
  },
  {
   "cell_type": "code",
   "execution_count": null,
   "metadata": {
    "colab": {
     "base_uri": "https://localhost:8080/",
     "height": 518
    },
    "id": "cIMvnbWb0BsH",
    "outputId": "c3c91925-20c7-490e-a5d9-fcab34288a63"
   },
   "outputs": [],
   "source": [
    "plt.rcParams['figure.figsize'] = (16, 8)\n",
    "sns.stripplot(data['Gender'], data['Age'], palette = 'Purples', size = 10)\n",
    "plt.title('Gender vs Spending Score', fontsize = 15)\n",
    "plt.show()"
   ]
  },
  {
   "cell_type": "code",
   "execution_count": null,
   "metadata": {
    "colab": {
     "base_uri": "https://localhost:8080/",
     "height": 514
    },
    "id": "qJ5lLuXL0eW5",
    "outputId": "0c640f43-15dc-4372-9a2b-6ab35d5b4264"
   },
   "outputs": [],
   "source": [
    "plt.rcParams['figure.figsize'] = (16,8)\n",
    "sns.violinplot(data['Gender'], data['Annual Income (k$)'], palette = 'rainbow')\n",
    "plt.title('Gender vs Spending Score', fontsize = 15)\n",
    "plt.show()"
   ]
  },
  {
   "cell_type": "markdown",
   "metadata": {
    "id": "lf49Jzgx1KlI"
   },
   "source": [
    "A Bivariate Analysis between the Gender and the Annual Income, to better visualize the Income of the different Genders.\n",
    "\n",
    "There are more number of males who get paid more than females. But, The number of males and females are equal in number when it comes to low annual income."
   ]
  },
  {
   "cell_type": "code",
   "execution_count": null,
   "metadata": {
    "colab": {
     "base_uri": "https://localhost:8080/",
     "height": 514
    },
    "id": "gOT7Ifvv0iuZ",
    "outputId": "1c1d088b-73b9-4e80-8a78-d4be3943cdbc"
   },
   "outputs": [],
   "source": [
    "x = data['Annual Income (k$)']\n",
    "y = data['Age']\n",
    "z = data['Spending Score (1-100)']\n",
    "\n",
    "sns.lineplot(x, y, color = 'green')\n",
    "sns.lineplot(x, z, color = 'orange')\n",
    "plt.title('Annual Income vs Age and Spending Score', fontsize = 15)\n",
    "plt.show()"
   ]
  },
  {
   "cell_type": "markdown",
   "metadata": {
    "id": "8VXcc34g1Qon"
   },
   "source": [
    "The above Plot Between Annual Income and Age represented by a green color line, and a plot between Annual Income and the Spending Score represented by a oragne color. shows how Age and Spending Varies with Annual Income."
   ]
  },
  {
   "cell_type": "code",
   "execution_count": null,
   "metadata": {
    "colab": {
     "base_uri": "https://localhost:8080/"
    },
    "id": "ZN9Yj_Ig1NPQ",
    "outputId": "f580b394-ef8d-4f64-c4b9-b1fa1f326deb"
   },
   "outputs": [],
   "source": [
    "#Clustering Analysis\n",
    "x = data.iloc[:, [3, 4]].values\n",
    "\n",
    "# let's check the shape of x\n",
    "print(x.shape)"
   ]
  },
  {
   "cell_type": "code",
   "execution_count": null,
   "metadata": {
    "colab": {
     "base_uri": "https://localhost:8080/",
     "height": 306
    },
    "id": "TXjS4Gj81Vsn",
    "outputId": "6ea5ea6e-eb2a-4a70-c495-68856497c7e0"
   },
   "outputs": [],
   "source": [
    "#Kmeans Algorithm\n",
    "#The Elbow Method to find the No. of Optimal Clusters\n",
    "\n",
    "wcss = []\n",
    "for i in range(1, 11):\n",
    "    km = KMeans(n_clusters = i, init = 'k-means++', max_iter = 300, n_init = 10, random_state = 0)\n",
    "    km.fit(x)\n",
    "    wcss.append(km.inertia_)\n",
    "    \n",
    "plt.plot(range(1, 11), wcss)\n",
    "plt.title('The Elbow Method', fontsize = 20)\n",
    "plt.xlabel('No. of Clusters')\n",
    "plt.ylabel('wcss')\n",
    "plt.show()"
   ]
  },
  {
   "cell_type": "code",
   "execution_count": null,
   "metadata": {
    "colab": {
     "base_uri": "https://localhost:8080/",
     "height": 491
    },
    "id": "6HdTk1xA1bsQ",
    "outputId": "8cf83d52-10c0-471b-b2c5-773b219f74a5"
   },
   "outputs": [],
   "source": [
    "#CLustering Visualization\n",
    "km = KMeans(n_clusters = 5, init = 'k-means++', max_iter = 300, n_init = 10, random_state = 0)\n",
    "y_means = km.fit_predict(x)\n",
    "\n",
    "plt.scatter(x[y_means == 0, 0], x[y_means == 0, 1], s = 100, c = 'green', label = 'miser')\n",
    "plt.scatter(x[y_means == 1, 0], x[y_means == 1, 1], s = 100, c = 'yellow', label = 'general')\n",
    "plt.scatter(x[y_means == 2, 0], x[y_means == 2, 1], s = 100, c = 'cyan', label = 'target')\n",
    "plt.scatter(x[y_means == 3, 0], x[y_means == 3, 1], s = 100, c = 'magenta', label = 'spendthrift')\n",
    "plt.scatter(x[y_means == 4, 0], x[y_means == 4, 1], s = 100, c = 'orange', label = 'careful')\n",
    "plt.scatter(km.cluster_centers_[:,0], km.cluster_centers_[:, 1], s = 200, c = 'blue' , label = 'centeroid')\n",
    "\n",
    "plt.style.use('fivethirtyeight')\n",
    "plt.title('K Means Clustering', fontsize = 15)\n",
    "plt.xlabel('Annual Income')\n",
    "plt.ylabel('Spending Score')\n",
    "plt.legend()\n",
    "plt.show()"
   ]
  },
  {
   "cell_type": "markdown",
   "metadata": {
    "id": "0CZYL-ck2Q8J"
   },
   "source": [
    "This Clustering Analysis gives us a very clear insight about the different segments of the customers in the Mall. There are clearly Five segments of Customers namely Miser, General, Target, Spendthrift, Careful based on their Annual Income and Spending Score which are reportedly the best factors/attributes to determine the segments of a customer in a Mall."
   ]
  },
  {
   "cell_type": "code",
   "execution_count": null,
   "metadata": {
    "colab": {
     "base_uri": "https://localhost:8080/",
     "height": 296
    },
    "id": "KpeeF1ng1t3w",
    "outputId": "64854f51-5e1c-4554-a87b-c10ae1ade63e"
   },
   "outputs": [],
   "source": [
    "#Hierarchial Clustering - Using Dendrograms to find the no. of Optimal Clusters\n",
    "\n",
    "dendrogram = sch.dendrogram(sch.linkage(x, method = 'ward'))\n",
    "plt.title('Dendrogam', fontsize = 15)\n",
    "plt.xlabel('Customers')\n",
    "plt.ylabel('Ecuclidean Distance')\n",
    "plt.show()"
   ]
  },
  {
   "cell_type": "code",
   "execution_count": null,
   "metadata": {
    "colab": {
     "base_uri": "https://localhost:8080/",
     "height": 297
    },
    "id": "9mU8Vzyf2Vrw",
    "outputId": "44899c4b-bf78-48ec-8ea5-771eee747cc1"
   },
   "outputs": [],
   "source": [
    "#Visualizing -  Hierarchial Clustering_Clusters\n",
    "\n",
    "hc = AgglomerativeClustering(n_clusters = 5, affinity = 'euclidean', linkage = 'ward')\n",
    "y_hc = hc.fit_predict(x)\n",
    "\n",
    "plt.scatter(x[y_hc == 0, 0], x[y_hc == 0, 1], s = 100, c = 'green', label = 'miser')\n",
    "plt.scatter(x[y_hc == 1, 0], x[y_hc == 1, 1], s = 100, c = 'yellow', label = 'general')\n",
    "plt.scatter(x[y_hc == 2, 0], x[y_hc == 2, 1], s = 100, c = 'cyan', label = 'target')\n",
    "plt.scatter(x[y_hc == 3, 0], x[y_hc == 3, 1], s = 100, c = 'magenta', label = 'spendthrift')\n",
    "plt.scatter(x[y_hc == 4, 0], x[y_hc == 4, 1], s = 100, c = 'orange', label = 'careful')\n",
    "plt.scatter(km.cluster_centers_[:,0], km.cluster_centers_[:, 1], s = 200, c = 'blue' , label = 'centeroid')\n",
    "\n",
    "plt.style.use('fivethirtyeight')\n",
    "plt.title('Hierarchial Clustering', fontsize = 15)\n",
    "plt.xlabel('Annual Income')\n",
    "plt.ylabel('Spending Score')\n",
    "plt.legend()\n",
    "plt.grid()\n",
    "plt.show()"
   ]
  },
  {
   "cell_type": "code",
   "execution_count": null,
   "metadata": {
    "colab": {
     "base_uri": "https://localhost:8080/"
    },
    "id": "sVYsRrHq24kZ",
    "outputId": "d9fcc83a-c320-4254-ad77-3d3cd76ab024"
   },
   "outputs": [],
   "source": [
    "#Clusters of Customers Based on their Ages\n",
    "y = data.iloc[:, [2, 4]].values\n",
    "y.shape"
   ]
  },
  {
   "cell_type": "code",
   "execution_count": null,
   "metadata": {
    "colab": {
     "base_uri": "https://localhost:8080/",
     "height": 484
    },
    "id": "OaBvD0eL3KwB",
    "outputId": "d130f02d-d89c-44bf-8b33-b93075831296"
   },
   "outputs": [],
   "source": [
    "wcss = []\n",
    "for i in range(1, 11):\n",
    "    kmeans = KMeans(n_clusters = i, init = 'k-means++', max_iter = 300, n_init = 10, random_state = 0)\n",
    "    kmeans.fit(y)\n",
    "    wcss.append(kmeans.inertia_)\n",
    "\n",
    "plt.rcParams['figure.figsize'] = (16, 8)\n",
    "plt.plot(range(1, 11), wcss)\n",
    "plt.title('K-Means Clustering(The Elbow Method)', fontsize = 20)\n",
    "plt.xlabel('Age')\n",
    "plt.ylabel('Count')\n",
    "plt.grid()\n",
    "plt.show()"
   ]
  },
  {
   "cell_type": "code",
   "execution_count": null,
   "metadata": {
    "colab": {
     "base_uri": "https://localhost:8080/",
     "height": 500
    },
    "id": "iaKl6g3e3P6R",
    "outputId": "9ca71d7e-2c39-48ae-b97d-53ad3abf9652"
   },
   "outputs": [],
   "source": [
    "kmeans = KMeans(n_clusters = 4, init = 'k-means++', max_iter = 300, n_init = 10, random_state = 0)\n",
    "ymeans = kmeans.fit_predict(y)\n",
    "\n",
    "plt.rcParams['figure.figsize'] = (16, 8)\n",
    "plt.title('Cluster of Ages', fontsize = 30)\n",
    "\n",
    "plt.scatter(y[ymeans == 0, 0], y[ymeans == 0, 1], s = 100, c = 'green', label = 'Usual Customers' )\n",
    "plt.scatter(y[ymeans == 1, 0], y[ymeans == 1, 1], s = 100, c = 'orange', label = 'Priority Customers')\n",
    "plt.scatter(y[ymeans == 2, 0], y[ymeans == 2, 1], s = 100, c = 'cyan', label = 'Target Customers(Young)')\n",
    "plt.scatter(y[ymeans == 3, 0], y[ymeans == 3, 1], s = 100, c = 'red', label = 'Target Customers(Old)')\n",
    "plt.scatter(kmeans.cluster_centers_[:, 0], kmeans.cluster_centers_[:, 1], s = 200, c = 'blue')\n",
    "\n",
    "plt.style.use('fivethirtyeight')\n",
    "plt.xlabel('Age')\n",
    "plt.ylabel('Spending Score (1-100)')\n",
    "plt.legend()\n",
    "plt.grid()\n",
    "plt.show()"
   ]
  },
  {
   "cell_type": "markdown",
   "metadata": {
    "id": "ZJmTBtF63m8o"
   },
   "source": [
    "### OBSERVATION:\n",
    "  - According to my own intuition by looking at the above clustering plot between the age of the customers and their corresponding spending scores, I have aggregated them into 4 different categories namely Usual Customers, Priority Customers, Senior Citizen Target Customers, Young Target Customers. Then after getting the results we can accordingly make different marketing strategies and policies to optimize the spending scores of the customer in the Mall."
   ]
  },
  {
   "cell_type": "code",
   "execution_count": null,
   "metadata": {},
   "outputs": [],
   "source": []
  },
  {
   "cell_type": "code",
   "execution_count": null,
   "metadata": {},
   "outputs": [],
   "source": []
  }
 ],
 "metadata": {
  "accelerator": "GPU",
  "colab": {
   "provenance": []
  },
  "gpuClass": "standard",
  "kernelspec": {
   "display_name": "Python 3 (ipykernel)",
   "language": "python",
   "name": "python3"
  },
  "language_info": {
   "codemirror_mode": {
    "name": "ipython",
    "version": 3
   },
   "file_extension": ".py",
   "mimetype": "text/x-python",
   "name": "python",
   "nbconvert_exporter": "python",
   "pygments_lexer": "ipython3",
   "version": "3.10.8"
  }
 },
 "nbformat": 4,
 "nbformat_minor": 1
}
